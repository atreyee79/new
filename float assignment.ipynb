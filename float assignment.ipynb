{
 "cells": [
  {
   "cell_type": "code",
   "execution_count": 4,
   "metadata": {},
   "outputs": [
    {
     "name": "stdout",
     "output_type": "stream",
     "text": [
      "Type of a <class 'float'>\n",
      "address of a 1709702339472\n"
     ]
    }
   ],
   "source": [
    "# Q. ​Declare a float value and store it in a variable. \n",
    "# Check the type and print the id of the same. \n",
    "\n",
    "a=10.20\n",
    "print('Type of a',type(a))\n",
    "print('address of a',id (a))"
   ]
  },
  {
   "cell_type": "code",
   "execution_count": 7,
   "metadata": {},
   "outputs": [
    {
     "name": "stdout",
     "output_type": "stream",
     "text": [
      "23.7\n",
      "17.2\n",
      "66.46249999999999\n",
      "6.292307692307692\n",
      "0.9499999999999993\n",
      "6.0\n",
      "18186.673290968443\n",
      "13.0\n",
      "8.0\n",
      "26.25\n",
      "4.2\n",
      "0.5\n",
      "4.0\n",
      "357.2508309997333\n"
     ]
    }
   ],
   "source": [
    "# Q.​ ​Arithmetic Operations on float Take two different float values. \n",
    "# Store them in two different variables. Do below operations on them:-    \n",
    "#     ​Find sum of both numbers    ​Find difference between them    \n",
    "#     ​Find the product of both numbers.   \n",
    "#     ​Find value after dividing first num with second number  \n",
    "#     ​Find the remainder after dividing first number with second number  \n",
    "#     ​Find the quotient after dividing first number with second number \n",
    "#     ​Find the result of the first num to the power of the second number. \n",
    "\n",
    "a=20.45\n",
    "b=3.25\n",
    "print(a+b)\n",
    "print(a-b)\n",
    "print(a*b)\n",
    "print(a/b)\n",
    "print(a%b)\n",
    "print(a//b)\n",
    "print(a**b)\n",
    "\n",
    "a=10.5\n",
    "b=2.5\n",
    "print(a+b)\n",
    "print(a-b)\n",
    "print(a*b)\n",
    "print(a/b)\n",
    "print(a%b)\n",
    "print(a//b)\n",
    "print(a**b)"
   ]
  },
  {
   "cell_type": "code",
   "execution_count": 9,
   "metadata": {},
   "outputs": [
    {
     "name": "stdout",
     "output_type": "stream",
     "text": [
      "True\n",
      "False\n",
      "True\n",
      "False\n"
     ]
    }
   ],
   "source": [
    "#Q.Comparison Operators on float.Take two different float values. \n",
    "#Store them in two different variables.\n",
    "#Do below operations on them:-  \n",
    "#Compare se two numbers with below operator:-\n",
    "#Greater than, '>'      \n",
    "#Smaller than, '<'      \n",
    "#Greater than or equal to, '>='  \n",
    "#Less than or equal to, '<=' \n",
    "#Observe their output(return type should be boolean) \n",
    "\n",
    "\n",
    "a=356.28\n",
    "b=267.54\n",
    "print(a>b)\n",
    "print(a<b)\n",
    "print(a>=b)\n",
    "print(a<=b)\n",
    "\n",
    "#Comment\n",
    "execution no 3,why print(a>=b)is true????\n",
    "\n",
    "\n"
   ]
  },
  {
   "cell_type": "code",
   "execution_count": 10,
   "metadata": {},
   "outputs": [
    {
     "name": "stdout",
     "output_type": "stream",
     "text": [
      "False\n",
      "True\n"
     ]
    }
   ],
   "source": [
    "#Q. Equality Operator\n",
    "#Take two different float values.\n",
    "#Store them in two different variables.\n",
    "#Equate them using equality operators (==, !=) \n",
    "#Observe the output(return type should be boolean\n",
    "                   \n",
    "a=10.89\n",
    "b=45.23\n",
    "print(a==b)\n",
    "print(a!=b)\n",
    "\n",
    "#meaning of!="
   ]
  },
  {
   "cell_type": "code",
   "execution_count": 17,
   "metadata": {},
   "outputs": [
    {
     "name": "stdout",
     "output_type": "stream",
     "text": [
      "20.3\n",
      "0.0\n",
      "0.0\n",
      "0.0\n",
      "10.2\n",
      "20.3\n",
      "20.3\n",
      "0.0\n",
      "False\n",
      "True\n"
     ]
    }
   ],
   "source": [
    "# Q.​ Logical operators\n",
    "# Observe the output of below code\n",
    "# Cross check the output manually \n",
    "# print​(​10.20​ ​and​ ​20.30​)       #both are true and second value taken >Output is 20.3 \n",
    "# print​(​0.0​ ​and​ ​20.30​)         #First is false so first value taken->Output is 0.0 \n",
    " \n",
    "# print​(​20.30​ ​and​ ​0.0​)         #Goes to till second and second value is false so second is taken>Output is 0.0 \n",
    "#  print​(​0.0​ ​and​ ​0.0​)           #First is false so first value is taken->Output is 0.0 \n",
    "#  print​(​10.20​ ​or​ ​20.30​)        #First is True so first value is taken>Output is 10.2 \n",
    "#  print​(​0.0​ ​or​ ​20.30​)          #Goes to till second and second is true second value is taken->Output is 20.3 \n",
    "#  print​(​20.30​ ​or​ ​0.0​)          #First is True so first value is taken->Output is 20.3 \n",
    "#  print​(​0.0​ ​or​ ​0.0​)            #Goes to till second and second is also false and second value is taken>Output is 0.0 \n",
    "#  print​(​not​ ​10.20​)             #-Not of true is false->Output is False \n",
    "#  print​(​not​ ​0.0​)               #Not of false is True>Output is True \n",
    "\n",
    "\n",
    "print(10.20 and 20.30)\n",
    "print(0.0 and 20.30)\n",
    "print(20.30 and 0.0)\n",
    "print(0.0 and 0.0)\n",
    "print(10.20 or 20.30)\n",
    "print(0.0 or 20.30)\n",
    "print(20.30 or 0.0)\n",
    "print(0.0 or 0.0)\n",
    "print(not 10.20)\n",
    "print(not 0.0)"
   ]
  },
  {
   "cell_type": "code",
   "execution_count": 24,
   "metadata": {},
   "outputs": [
    {
     "name": "stdout",
     "output_type": "stream",
     "text": [
      "False\n",
      "True\n",
      "address of a 1709702338992\n",
      "address of b 1709702339376\n"
     ]
    }
   ],
   "source": [
    "# Q.​ What is the output of expression inside print statement. \n",
    "# Cross check before running the program. \n",
    "# a = ​10.20 b - ​10.20 print​(a ​is​ b)          #True or False? True 10.20<256\n",
    "# print​(a ​is​ ​not​ b)      #True or False? False \n",
    "# Why the Id of float values are different when the same value is assigned to two different variables \n",
    "# ex: a = 10.5 b=10.5. but id will be same if I assign the variable having float i.e. a=c then both a and c's Id are same \n",
    "    \n",
    "    \n",
    "a=10.20\n",
    "b=10.20\n",
    "print(a is b)\n",
    "print(a is not b)\n",
    "print('address of a',id (a))\n",
    "print('address of b',id (b))\n",
    " \n",
    " "
   ]
  },
  {
   "cell_type": "code",
   "execution_count": null,
   "metadata": {},
   "outputs": [],
   "source": [
    "# Q.​ Bitwise operation is not applicable between instances of float.\n",
    "# Why the Id of float values are different when the same value is assigned to two different variables ex: a = 10.5 b=10.5.\n",
    "#     but id will be same if I assign the variable having float i.e. a=c then both a and c's\n",
    "#     Id are same Object reusability concept is not applicable on float values. \n",
    "\n"
   ]
  },
  {
   "cell_type": "code",
   "execution_count": 11,
   "metadata": {},
   "outputs": [
    {
     "name": "stdout",
     "output_type": "stream",
     "text": [
      "True\n",
      "True\n",
      "True\n",
      "False\n",
      "True\n",
      "True\n",
      "False\n",
      "True\n"
     ]
    }
   ],
   "source": [
    "# Q.​ Membership operation in, not in are two membership operators and it returns boolean value \n",
    "#  print​(​'2.7'​ ​in​ ​'Python2.7.8'​)              #True \n",
    "#  print​(​10.20​ ​in​ [​10​,​10.20​,​10​+​20j​,​'Python'​]) #True\n",
    "#  print​(​10.20​ ​in​ (​10​,​10.20​,​10​+​20j​,​'Python'​)) # True \n",
    "#  print​(​20.30​ ​in​ {​1​,​20.30​,​30​+​40j​})           # True\n",
    "#  print​(​2.3​ ​in​ {​1​:​100​, ​2.3​:​200​, ​30​+​40j​:​300​}) # True \n",
    "#  print​(​10​ ​in​ ​range​(​20​))                     # True \n",
    "\n",
    "print ('2.7' in 'python2.7.8')\n",
    "print (10.20 in (10,10.20,10+20j,'python'))\n",
    "print(2.3 in {1:100,2.3:200,30+40j:300})\n",
    "print(300 in {1:100,2.3:200,30+40j:300})\n",
    "print(30+40j in {1:100,2.3:200,30+40j:300})\n",
    "\n",
    "range(20)\n",
    "print(10 in range(20))\n",
    "print(30 in range(20))\n",
    "print ('7.8' in 'python2.7.8')"
   ]
  },
  {
   "cell_type": "code",
   "execution_count": null,
   "metadata": {},
   "outputs": [],
   "source": []
  }
 ],
 "metadata": {
  "kernelspec": {
   "display_name": "Python 3",
   "language": "python",
   "name": "python3"
  },
  "language_info": {
   "codemirror_mode": {
    "name": "ipython",
    "version": 3
   },
   "file_extension": ".py",
   "mimetype": "text/x-python",
   "name": "python",
   "nbconvert_exporter": "python",
   "pygments_lexer": "ipython3",
   "version": "3.8.5"
  }
 },
 "nbformat": 4,
 "nbformat_minor": 4
}
