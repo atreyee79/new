{
 "cells": [
  {
   "cell_type": "code",
   "execution_count": null,
   "metadata": {},
   "outputs": [],
   "source": [
    "Q. ​Declare an int value and store it in a variable. Check the type and print the id of the same. \n",
    " "
   ]
  },
  {
   "cell_type": "code",
   "execution_count": 1,
   "metadata": {},
   "outputs": [
    {
     "name": "stdout",
     "output_type": "stream",
     "text": [
      "10\n"
     ]
    }
   ],
   "source": [
    "a=10\n",
    "print(a)"
   ]
  },
  {
   "cell_type": "code",
   "execution_count": null,
   "metadata": {},
   "outputs": [],
   "source": [
    "Q.​ ​Take one int value between 0 - 256. Assign it to two different variables. Check the id of both the variables. It should come the same. Check why? "
   ]
  },
  {
   "cell_type": "code",
   "execution_count": 14,
   "metadata": {},
   "outputs": [
    {
     "name": "stdout",
     "output_type": "stream",
     "text": [
      "Type of a_ <class 'int'>\n",
      "address of a 140731367176832\n",
      "address of b 140731367176832\n",
      "address of a 140731367176480\n",
      "address of b 140731367176608\n"
     ]
    }
   ],
   "source": [
    "a=156\n",
    "b=156\n",
    "print('Type of a_',(type (a)))\n",
    "print('address of a',id(a))\n",
    "print('address of b',id(b))\n",
    "\n",
    "# comments\n",
    "#Since a and b variables are assigned same number ,the id will be same.\n",
    "\n",
    "a=145\n",
    "b=149\n",
    "print ('address of a',id(a))\n",
    "print ('address of b',id(b))\n",
    "\n",
    "#comments \n",
    "#Since a and b are assigned different numbers ,ids are different.\n"
   ]
  },
  {
   "cell_type": "code",
   "execution_count": null,
   "metadata": {},
   "outputs": [],
   "source": [
    "Q.​ Take one int value either less than -5 or greater than 256. Assign it to two different variables. Check the id of both the variables. It should come different.Check why"
   ]
  },
  {
   "cell_type": "code",
   "execution_count": 16,
   "metadata": {},
   "outputs": [
    {
     "name": "stdout",
     "output_type": "stream",
     "text": [
      "address of a 2682122285328\n",
      "address of b 2682122285200\n"
     ]
    }
   ],
   "source": [
    "a=-10\n",
    "b=298\n",
    "print('address of a',id(a))\n",
    "print('address of b',id(b))\n",
    "# comments\n",
    "#Since a and b are assigned diff nos.,ids are diff"
   ]
  },
  {
   "cell_type": "code",
   "execution_count": 18,
   "metadata": {},
   "outputs": [
    {
     "name": "stdout",
     "output_type": "stream",
     "text": [
      "17\n",
      "13\n",
      "30\n",
      "7.5\n",
      "1\n",
      "7\n",
      "225\n"
     ]
    }
   ],
   "source": [
    "#Q.​ ​Arithmetic Operations on integers Take two different integer values.\n",
    "# Store them in two different variables. Do below operations on them:-  \n",
    "#​Find sum of both numbers   #\n",
    "#​Find difference between them   \n",
    "#​Find the product of both numbers.    \n",
    "#​Find value after dividing first num with second number   \n",
    "#​Find the remainder after dividing first number with second number   \n",
    "#​Find the quotient after dividing first number with second number   \n",
    "# ​Find the result of the first num to the power of the second number\n",
    "\n",
    "\n",
    "a=15\n",
    "b=2\n",
    "print(a+b)\n",
    "print(a-b)\n",
    "print(a*b)\n",
    "print(a/b)\n",
    "print(a%b)\n",
    "print(a//b)\n",
    "print(a**b)\n",
    "\n",
    "\n",
    "    "
   ]
  },
  {
   "cell_type": "code",
   "execution_count": 21,
   "metadata": {},
   "outputs": [
    {
     "name": "stdout",
     "output_type": "stream",
     "text": [
      "True\n",
      "False\n",
      "True\n",
      "False\n"
     ]
    }
   ],
   "source": [
    "#Q.Comparison Operators on integers Take two different integer values. \n",
    "#Store them in two different variables.\n",
    "#Do below operations on them:-  \n",
    "#Compare se two numbers with below operator:-\n",
    "#Greater than, '>'      \n",
    "#Smaller than, '<'      \n",
    "#Greater than or equal to, '>='  \n",
    "#Less than or equal to, '<=' \n",
    "#Observe their output(return type should be boolean) \n",
    "\n",
    "\n",
    "a=289\n",
    "b=134\n",
    "print(a>b)\n",
    "print(a<b)\n",
    "print(a>=b)\n",
    "print(a<=b)\n",
    "\n",
    "#Comment\n",
    "execution no 3,why print(a>=b)is true????\n"
   ]
  },
  {
   "cell_type": "code",
   "execution_count": 25,
   "metadata": {},
   "outputs": [
    {
     "name": "stdout",
     "output_type": "stream",
     "text": [
      "False\n",
      "True\n",
      "True\n",
      "False\n"
     ]
    }
   ],
   "source": [
    "#Q. Equality Operator Take two different integer values.\n",
    "#Store them in two different variables.\n",
    "#Equate them using equality operators (==, !=) \n",
    "#Observe the output(return type should be boolean\n",
    "                   \n",
    "a=57\n",
    "b=45\n",
    "print(a==b)\n",
    "print(a!=b)\n",
    "a=10\n",
    "b=10\n",
    "print(a==b)\n",
    "print(a!=b)\n",
    "                   "
   ]
  },
  {
   "cell_type": "code",
   "execution_count": 33,
   "metadata": {},
   "outputs": [
    {
     "name": "stdout",
     "output_type": "stream",
     "text": [
      "20\n",
      "0\n",
      "0\n",
      "0\n",
      "10\n",
      "20\n",
      "20\n",
      "0\n",
      "False\n",
      "True\n"
     ]
    }
   ],
   "source": [
    "# Q.​ Logical operators Observe the output of below code \n",
    "# Cross check the output manually \n",
    "# print​(​10​ ​and​ ​20​) #----------------------------------------->Output is 20 \n",
    "# print​(​0​ ​and​ ​20​) #----------------------------------------->Output is 0 \n",
    "# print​(​20​ ​and​ ​0​) #----------------------------------------->Output is 0 \n",
    "# print​(​0​ ​and​ ​0​) #----------------------------------------->Output is 0 \n",
    "# print​(​10​ ​or​ ​20​) #----------------------------------------->Output is 10 \n",
    "# print​(​0​ ​or​ ​20​) #----------------------------------------->Output is 20\n",
    "# print​(​20​ ​or​ ​0​) #----------------------------------------->Output is 20 \n",
    "# print​(​0​ ​or​ ​0​) #----------------------------------------->Output is 0 \n",
    "# print​(​not​ ​10​) #----------------------------------------->Output is False\n",
    "# print​(​not​ ​0​) #----------------------------------------->Output is True \n",
    "\n",
    "\n",
    "\n",
    "print(10 and 20)\n",
    "print(0 and 20)\n",
    "print(20 and 0)\n",
    "print(0 and 0)\n",
    "print(10 or 20)\n",
    "print(0 or 20)\n",
    "print(20 or 0)\n",
    "print(0 or 0)\n",
    "print(not 10 )\n",
    "print(not 0)\n",
    "\n",
    "#comments:0 is always false and rest are true\n",
    "#A and B:it will be always A if A is false or else B\n",
    "#A or B :it will be always A if A is true or else B"
   ]
  },
  {
   "cell_type": "code",
   "execution_count": 3,
   "metadata": {},
   "outputs": [
    {
     "name": "stdout",
     "output_type": "stream",
     "text": [
      "0\n",
      "30\n",
      "30\n",
      "-11\n",
      "40\n",
      "2\n",
      "0b1010\n",
      "0b10100\n",
      "30\n",
      "2\n"
     ]
    }
   ],
   "source": [
    "# Q.​ Bitwise Operators Do below operations on the values provided below:- \n",
    "# Bitwise and(&) -----------------------------------------> 10, 20 -------> Output is 0 \n",
    "# Bitwise or(|)  -----------------------------------------> 10, 20 -------> Output is 30    \n",
    "# Bitwise(^)     -----------------------------------------> 10, 20 -------> Output is 30   \n",
    "# Bitwise negation(~) ------------------------------------> 10 -------> Output is -11   \n",
    "# Bitwise left shift  ------------------------------------> 10,2 -------> Output is 40  \n",
    "# Bitwise right shift ------------------------------------> 10,2-------> Output is 2\n",
    "# Cross check the output manually \n",
    "\n",
    "\n",
    "print(10&20)\n",
    "print(10|20)\n",
    "print(10^20)\n",
    "print(~10)\n",
    "print(10 << 2)\n",
    "print(10>>2)\n",
    "print(bin(10))\n",
    "print(bin(20))\n",
    "#comments\n",
    "\n",
    "# binary 10 - 1010\n",
    "# binary 20 -10100\n",
    "#        &   00000\n",
    "#        |   11110\n",
    "#        ^   11110\n",
    "#     so Print(10&20)-0\n",
    "\n",
    "# & properties:only 1&1 -1,remaining zero\n",
    "    \n",
    "# |properties:only 0&0 -0 remaining 1\n",
    "# ^properties:same numbers -0,odd nos.1\n",
    "\n",
    "print(0b11110)\n",
    "\n"
   ]
  },
  {
   "cell_type": "code",
   "execution_count": 3,
   "metadata": {},
   "outputs": [
    {
     "name": "stdout",
     "output_type": "stream",
     "text": [
      "True\n",
      "False\n",
      "False\n",
      "True\n",
      "True\n",
      "False\n",
      "False\n",
      "True\n"
     ]
    }
   ],
   "source": [
    "# Q.​ What is the output of expression inside print statement. Cross check before running the program. \n",
    "# a = 10 b = 10 \n",
    "# print(a is b)      #True or False?\n",
    "# print(a is not b)      #True or False? \n",
    " \n",
    "# a = 1000 b = 1000 \n",
    "# print(a is b)        #True or False? \n",
    "# print(a is not b)      #True or False? \n",
    " \n",
    " \n",
    "a = 10\n",
    "b = 10 \n",
    "print(a is b)      \n",
    "print(a is not b)      \n",
    " \n",
    "a = 1000\n",
    "b = 1000 \n",
    "print(a is b)        \n",
    "print(a is not b)  \n",
    "\n",
    "a=256\n",
    "b=256\n",
    "\n",
    "print(a is b)        \n",
    "print(a is not b)\n",
    "\n",
    "a=289\n",
    "b=289\n",
    "print(a is b)        \n",
    "print(a is not b)\n",
    " \n",
    "#identity operator\n",
    "int -5 to 256 ,a-z ,A-Z, []-same memory reusable object\n"
   ]
  },
  {
   "cell_type": "code",
   "execution_count": 12,
   "metadata": {},
   "outputs": [
    {
     "name": "stdout",
     "output_type": "stream",
     "text": [
      "20\n",
      "32\n",
      "84\n",
      "0\n",
      "10\n",
      "0b100000\n",
      "0b10100\n",
      "0\n"
     ]
    }
   ],
   "source": [
    "# Q. ​What is the output of expression inside print statement. \n",
    "# Cross check before running the program.\n",
    "# print​(​10​+(​10​*​32​)//​2​**​5​&​20​+(~(​-10​))<<​2​) \n",
    "\n",
    "print(10+(10*32)//2**5&20+(~(-10))<<2) \n",
    "\n",
    "print(2**5)\n",
    "print(21<<2)\n",
    "print(10&20)\n",
    "print(320//32)\n",
    "print(bin(32))\n",
    "print(bin(20))\n",
    "print(32&20)\n",
    "\n",
    "10+(10*32)//32&20+(-9)<<2\n",
    "=10+320//32&20-9<<2\n",
    "10+10&20-9<<2\n",
    "10+0-9*4\n",
    "\n",
    "\n",
    "not getting 20"
   ]
  },
  {
   "cell_type": "code",
   "execution_count": 20,
   "metadata": {},
   "outputs": [
    {
     "name": "stdout",
     "output_type": "stream",
     "text": [
      "True\n",
      "True\n",
      "True\n",
      "True\n",
      "True\n",
      "True\n"
     ]
    }
   ],
   "source": [
    "# Q. ​Membership operation in, not in are two membership operators and it returns boolean value \n",
    "#  print​(​'2'​ ​in​ ​'Python2.7.8'​) \n",
    "#     print​(​10​ ​in​ [​10​,​10.20​,​10​+​20j​,​'Python'​]) \n",
    "#     print​(​10​ ​in​ (​10​,​10.20​,​10​+​20j​,​'Python'​))\n",
    "#     print​(​2​ ​in​ {​1​,​2​,​3​}) \n",
    "#     print​(​3​ ​in​ {​1​:​100​, ​2​:​200​, ​3​:​300​})\n",
    "#     print​(​10​ ​in​ ​range​(​20​)) \n",
    "\n",
    "print('2'in'Python2.7.8') \n",
    "print(10 in [10,10.20,10+20j,'Python']) \n",
    "print(10 in (10,10.20,10+20j,'Python'))\n",
    "print(2 in (1,2,3))\n",
    "print(3 in{1:100,2:200,3:300})\n",
    "print(10 in range(20))\n"
   ]
  },
  {
   "cell_type": "code",
   "execution_count": 28,
   "metadata": {},
   "outputs": [
    {
     "name": "stdout",
     "output_type": "stream",
     "text": [
      "0b1010\n",
      "0o12\n",
      "0xa\n",
      "0b11101\n",
      "0o35\n",
      "0x1d\n",
      "0b101111010\n",
      "0o572\n",
      "0x17a\n"
     ]
    }
   ],
   "source": [
    "# Q. ​An integer can be represented in binary, octal or hexadecimal form.\n",
    "# Declare one binary, one octal and one hexadecimal value and store them in three different variables. \n",
    "# Convert 9876 to its binary, octal and hexadecimal equivalent and print their corresponding value. \n",
    "\n",
    "a=10\n",
    "b=29\n",
    "c=378\n",
    "print(bin(a))\n",
    "print(oct(10))\n",
    "print(hex(10))\n",
    "print(bin(b))\n",
    "print(oct(b))\n",
    "print(hex(b))\n",
    "print(bin(378))\n",
    "print(oct(378))\n",
    "print(hex(378))\n",
    "\n"
   ]
  },
  {
   "cell_type": "code",
   "execution_count": 40,
   "metadata": {},
   "outputs": [
    {
     "name": "stdout",
     "output_type": "stream",
     "text": [
      "80\n",
      "3870\n",
      "64222\n",
      "0b1010000\n",
      "0o7436\n",
      "0xfade\n",
      "0b1010000\n",
      "0b1111101011011110\n",
      "0o175336\n",
      "0o7436\n",
      "0x50\n",
      "0xfade\n"
     ]
    }
   ],
   "source": [
    "# Q. ​What will be the output of following:- \n",
    "# a = ​0​b1010000 print​(a) \n",
    "# b = ​0​o7436 print​(b) \n",
    "# c = ​0x​fade print​(c) \n",
    "# print​(​bin​(​80​)) \n",
    " \n",
    "# print​(​oct​(​3870​)) \n",
    "#  print​(​hex​(​64222​)) \n",
    "#  print​(​bin​(​0​b1010000)) \n",
    "#  print​(​bin​(​0x​fade​)) \n",
    "#  print​(​oct​(​0x​fade​)) \n",
    "#  print​(​oct​(​0​o7436)) \n",
    "#  print​(​hex​(​0​b1010000)) \n",
    "#  print​(​hex​(​0x​fade​)) \n",
    "\n",
    "a=0b1010000\n",
    "b=0o7436\n",
    "c=0xfade\n",
    "print (a)\n",
    "print(b)\n",
    "print(c)\n",
    "print(bin(80))\n",
    "print(oct(3870))\n",
    "print(hex(64222))\n",
    "print(bin(0b1010000))\n",
    "print(bin(0xfade))\n",
    "print(oct(0xfade))\n",
    "print(oct(0o7436)) \n",
    "print(hex(0b1010000)) \n",
    "print(hex(0xfade)) "
   ]
  },
  {
   "cell_type": "code",
   "execution_count": null,
   "metadata": {},
   "outputs": [],
   "source": []
  },
  {
   "cell_type": "code",
   "execution_count": null,
   "metadata": {},
   "outputs": [],
   "source": []
  },
  {
   "cell_type": "code",
   "execution_count": null,
   "metadata": {},
   "outputs": [],
   "source": []
  }
 ],
 "metadata": {
  "kernelspec": {
   "display_name": "Python 3",
   "language": "python",
   "name": "python3"
  },
  "language_info": {
   "codemirror_mode": {
    "name": "ipython",
    "version": 3
   },
   "file_extension": ".py",
   "mimetype": "text/x-python",
   "name": "python",
   "nbconvert_exporter": "python",
   "pygments_lexer": "ipython3",
   "version": "3.8.5"
  }
 },
 "nbformat": 4,
 "nbformat_minor": 4
}
