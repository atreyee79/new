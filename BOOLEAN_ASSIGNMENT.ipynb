{
 "cells": [
  {
   "cell_type": "code",
   "execution_count": 8,
   "metadata": {},
   "outputs": [
    {
     "name": "stdout",
     "output_type": "stream",
     "text": [
      "Type of true <class 'int'>\n",
      "Type of a <class 'int'>\n"
     ]
    }
   ],
   "source": [
    "# Q. ​Declare a boolean value and store it in a variable.\n",
    "# Check the type and print the id of the same.\n",
    "\n",
    "# true=1\n",
    "# print('Type of true',type(true))\n",
    "\n",
    "# a=true\n",
    "# print('Type of a',type(a))"
   ]
  },
  {
   "cell_type": "code",
   "execution_count": 2,
   "metadata": {},
   "outputs": [
    {
     "name": "stdout",
     "output_type": "stream",
     "text": [
      "Type of a <class 'bool'>\n",
      "address of a 140727095252816\n"
     ]
    }
   ],
   "source": [
    "a=True\n",
    "print('Type of a',type(a))\n",
    "print('address of a',id(a))"
   ]
  },
  {
   "cell_type": "code",
   "execution_count": 14,
   "metadata": {},
   "outputs": [
    {
     "name": "stdout",
     "output_type": "stream",
     "text": [
      "24\n",
      "[]\n"
     ]
    }
   ],
   "source": [
    "true=24\n",
    "print(true)\n",
    "false=[]\n",
    "print([])"
   ]
  },
  {
   "cell_type": "code",
   "execution_count": null,
   "metadata": {},
   "outputs": [],
   "source": []
  },
  {
   "cell_type": "code",
   "execution_count": 18,
   "metadata": {},
   "outputs": [
    {
     "name": "stdout",
     "output_type": "stream",
     "text": [
      "Type of True <class 'bool'>\n",
      "address of True 140727095252816\n",
      "address of b 140727095535680\n",
      "address of a 140727095535680\n"
     ]
    }
   ],
   "source": [
    "# Q.​ ​Take one boolean value between 0 - 256. Assign it to two different variables.\n",
    "# Check the id of both the variables. \n",
    "# It should come the same. Check why?\n",
    "\n",
    "\n",
    "\n",
    "a=True\n",
    "a=10\n",
    "b=10\n",
    "\n",
    "print('Type of True',type (True))\n",
    "print('address of True',id(True))\n",
    "print('address of b',id(b))\n",
    "print('address of a',id(a))"
   ]
  },
  {
   "cell_type": "code",
   "execution_count": 22,
   "metadata": {},
   "outputs": [
    {
     "name": "stdout",
     "output_type": "stream",
     "text": [
      "1\n",
      "1\n",
      "0\n",
      "1\n"
     ]
    }
   ],
   "source": [
    "\n",
    "#  Q.​ Arithmetic Operations on boolean data Take two different boolean values. \n",
    "#     Store them in two different variables. Do below operations on them:-   \n",
    "#         Find sum of both values   \n",
    "#         Find difference between them   \n",
    "#         Find the product of both.    Find value after dividing first value with second value   \n",
    "#         Find the remainder after dividing first value with second value  \n",
    "#         Find the quotient after dividing first value with second value   \n",
    "#         Find the result of first value to the power of second value\n",
    "\n",
    "\n",
    "\n",
    "a=True\n",
    "b=False\n",
    "\n",
    "print(a+b)\n",
    "print(a-b)\n",
    "print(a*b)\n",
    "print(a**b)\n",
    "\n",
    "remaining operations cannot be done as div by zero results in error."
   ]
  },
  {
   "cell_type": "code",
   "execution_count": 23,
   "metadata": {},
   "outputs": [
    {
     "name": "stdout",
     "output_type": "stream",
     "text": [
      "True\n",
      "False\n",
      "True\n",
      "False\n"
     ]
    }
   ],
   "source": [
    "# Q.​ ​Comparison Operators on boolean values Take two different boolean values. Store them in two different variables. \n",
    "# Do below operations on them:-  \n",
    "#     ​Compare these two values with below operator:-       \n",
    "#         ​Greater than, '>'       \n",
    "#         ​less than, '<'       \n",
    "#         ​Greater than or equal to, '>='     \n",
    "#         ​Less than or equal to, '<='  \n",
    "#         Observe their output(return type should be boolean) \n",
    "\n",
    "\n",
    "a=True\n",
    "b=False\n",
    "print(a>b)\n",
    "print(a<b)\n",
    "print(a>=b)\n",
    "print(a<=b)"
   ]
  },
  {
   "cell_type": "code",
   "execution_count": 24,
   "metadata": {},
   "outputs": [
    {
     "name": "stdout",
     "output_type": "stream",
     "text": [
      "False\n",
      "True\n"
     ]
    }
   ],
   "source": [
    "# Q.​ Equality Operator \n",
    "# Take two different boolean values. \n",
    "# Store them in two different variables.\n",
    "# Equate them using equality operators (==, !=)\n",
    "# Observe the output(return type should be boolean\n",
    "\n",
    "a=True\n",
    "b=False\n",
    "print(a==b)\n",
    "print(a!=b)\n",
    "                   "
   ]
  },
  {
   "cell_type": "code",
   "execution_count": 29,
   "metadata": {},
   "outputs": [
    {
     "name": "stdout",
     "output_type": "stream",
     "text": [
      "True\n",
      "False\n",
      "False\n",
      "False\n",
      "True\n",
      "True\n",
      "True\n",
      "False\n"
     ]
    }
   ],
   "source": [
    "# Q.​ Logical operators Observe the output of below code Cross check the output manually \n",
    "#  print​(​True​ ​and​ ​True​) #----------------------------------------->Output is True \n",
    "# print​(​False​ ​and​ ​True​) #----------------------------------------->Output is False \n",
    "#  print​(​True​ ​and​ ​False​) #----------------------------------------->Output is False \n",
    "#  print​(​False​ ​and​ ​False​) #----------------------------------------->Output is False \n",
    "#  print​(​True​ ​or​ ​True​) #----------------------------------------->Output is True \n",
    "#  print​(​False​ ​or​ ​True​) #----------------------------------------->Output is True \n",
    "#  print​(​True​ ​or​ ​False​) #----------------------------------------->Output is True \n",
    "#  print​(​False​ ​or​ ​False​) #----------------------------------------->Output is False \n",
    "#  print​(​not​ ​True​) #----------------------------------------->Output is False \n",
    "#  print​(​not​ ​False​) #----------------------------------------->Output is True \n",
    "\n",
    "print(True and True)\n",
    "print(True and False)\n",
    "print(False and True)\n",
    "print(False and False)\n",
    "print(True or True)\n",
    "print(True or False)\n",
    "print(False or True)\n",
    "print(False or False)\n",
    " "
   ]
  },
  {
   "cell_type": "code",
   "execution_count": 39,
   "metadata": {},
   "outputs": [
    {
     "name": "stdout",
     "output_type": "stream",
     "text": [
      "True\n",
      "False\n",
      "False\n",
      "True\n",
      "True\n",
      "False\n",
      "False\n",
      "True\n",
      "False\n",
      "-2\n",
      "4\n",
      "0\n",
      "0\n",
      "0\n"
     ]
    }
   ],
   "source": [
    "# Q.​ Bitwise Operators \n",
    "# Do below operations on the values provided below:-  \n",
    "#     Bitwise and(&) --------------> True, True    -------> Output is True \n",
    "#     Bitwise or(|)  --------------> True, False   -------> Output is True   \n",
    "#     Bitwise(^)     --------------> True, False   -------> Output is True  \n",
    "#     Bitwise negation(~) ---------> True          -------> Output is -2    \n",
    "#     Bitwise left shift  ---------> True,2     -------> Output is 4   \n",
    "#     Bitwise right shift ---------> True,2        -------> Output is 0 \n",
    "#     Cross check the output manually \n",
    "\n",
    "\n",
    "print(True&True)\n",
    "print(True&False)\n",
    "print(False&False)\n",
    "print(True|True)\n",
    "print(True|False)\n",
    "print(False|False)\n",
    "print(True^True)\n",
    "print(True^False)\n",
    "print(False^False)\n",
    "print(~True)\n",
    "print(True<<2)\n",
    "print(False<<2)\n",
    "print(True>>2)\n",
    "print(False>>2)"
   ]
  },
  {
   "cell_type": "code",
   "execution_count": 43,
   "metadata": {},
   "outputs": [
    {
     "name": "stdout",
     "output_type": "stream",
     "text": [
      "True\n",
      "False\n",
      "True\n",
      "False\n"
     ]
    }
   ],
   "source": [
    "# Q.​ What is the output of expression inside the print statement. \n",
    "# Cross check before running the program.\n",
    "# a = ​True\n",
    "# b = ​True \n",
    "\n",
    "# print​(a ​is​ b)          #True or False?   # \n",
    "# print​(a ​is​ ​not​ b)      #True or False? \n",
    " \n",
    "# a = ​False\n",
    "# b = ​False \n",
    "\n",
    "# print​(a ​is​ b)          #True or False? \n",
    "# print​(a ​is​ ​not​ b)      #True or False? \n",
    "\n",
    "a=True\n",
    "b=True\n",
    "\n",
    "print(a is b)\n",
    "print(a is not b)\n",
    "\n",
    "a=False\n",
    "b=False\n",
    "\n",
    "print(a is b)\n",
    "print(a is not b)\n",
    "\n",
    " \n",
    " \n",
    " \n",
    " \n",
    " \n",
    " \n",
    " \n",
    " "
   ]
  },
  {
   "cell_type": "code",
   "execution_count": 51,
   "metadata": {},
   "outputs": [
    {
     "name": "stdout",
     "output_type": "stream",
     "text": [
      "True\n",
      "False\n",
      "True\n",
      "True\n",
      "True\n"
     ]
    }
   ],
   "source": [
    "#  Q.​ Membership operation in, not in are two membership operators and it returns boolean value \n",
    "    \n",
    "#  print​(​True​ ​in​ [​10​,​10.20​,​10​+​20j​,​'Python'​, ​True​])\n",
    "# print​(​False​ ​in​ (​10​,​10.20​,​10​+​20j​,​'Python'​, ​False​)) \n",
    "# print​(​True​ ​in​ {​1​,​2​,​3​, ​True​}) \n",
    "# print​(​True​ ​in​ {​True​:​100​, ​False​:​200​, ​True​:​300​}) \n",
    "# print​(​False​ ​in​ {​True​:​100​, ​False​:​200​, ​True​:​300​}) \n",
    "\n",
    "print(True in [10,10.20,10+20j,'Python', True])\n",
    "print(False in [10,10.20,10+20j,'Python',True])\n",
    "print(True in [1,2,3, True])\n",
    "print(True in {True:100, False:200, True:300})\n",
    "print(False in {True:100, False:200, True:300})\n"
   ]
  },
  {
   "cell_type": "code",
   "execution_count": null,
   "metadata": {},
   "outputs": [],
   "source": []
  }
 ],
 "metadata": {
  "kernelspec": {
   "display_name": "Python 3",
   "language": "python",
   "name": "python3"
  },
  "language_info": {
   "codemirror_mode": {
    "name": "ipython",
    "version": 3
   },
   "file_extension": ".py",
   "mimetype": "text/x-python",
   "name": "python",
   "nbconvert_exporter": "python",
   "pygments_lexer": "ipython3",
   "version": "3.8.5"
  }
 },
 "nbformat": 4,
 "nbformat_minor": 4
}
